{
 "cells": [
  {
   "cell_type": "markdown",
   "id": "30c946cc",
   "metadata": {},
   "source": [
    "# Problem Set 2"
   ]
  },
  {
   "cell_type": "code",
   "execution_count": 12,
   "id": "5373354f",
   "metadata": {},
   "outputs": [
    {
     "name": "stdout",
     "output_type": "stream",
     "text": [
      "Ans 1\n"
     ]
    },
    {
     "data": {
      "text/plain": [
       "6"
      ]
     },
     "execution_count": 12,
     "metadata": {},
     "output_type": "execute_result"
    }
   ],
   "source": [
    "print('Ans 1')\n",
    "a = 0\n",
    "\n",
    "def b():\n",
    "    global a\n",
    "    a = c(a)\n",
    "\n",
    "def c(a):\n",
    "    return a + 2\n",
    "b()\n",
    "b()\n",
    "b()\n",
    "a\n",
    "\n"
   ]
  },
  {
   "cell_type": "code",
   "execution_count": 14,
   "id": "55cd147f",
   "metadata": {},
   "outputs": [
    {
     "name": "stdout",
     "output_type": "stream",
     "text": [
      "Ans 2\n",
      "File midterm.py not found.\n",
      "None\n",
      "File idterm.py not found.\n",
      "None\n"
     ]
    }
   ],
   "source": [
    "print('Ans 2')\n",
    "def fileLength(filename):\n",
    "    try:\n",
    "        infile = open(filename, 'r')\n",
    "        content = infile.read()\n",
    "        length = len(content)\n",
    "        infile.close()\n",
    "        return length\n",
    "    except FileNotFoundError:\n",
    "        print(f\"File {filename} not found.\")\n",
    "\n",
    "# Example usages\n",
    "try:\n",
    "    print(fileLength('midterm.py'))\n",
    "except TypeError:\n",
    "    print(\"Invalid file name or file cannot be read.\")\n",
    "\n",
    "try:\n",
    "    print(fileLength('idterm.py'))\n",
    "except TypeError:\n",
    "    print(\"Invalid file name or file cannot be read.\")\n"
   ]
  },
  {
   "cell_type": "code",
   "execution_count": 15,
   "id": "20513a47",
   "metadata": {},
   "outputs": [
    {
     "name": "stdout",
     "output_type": "stream",
     "text": [
      "Ans 3\n",
      "['doll', 'firetruck', 'kitten']\n",
      "I am a Kangaroo located at coordinates (0,0)\n",
      "['doll', 'firetruck', 'kitten']\n",
      "I am a Kangaroo located at coordinates (3,0)\n"
     ]
    }
   ],
   "source": [
    "print('Ans 3')\n",
    "class Marsupial:\n",
    "    def __init__(self):\n",
    "        self.pouch = []\n",
    "\n",
    "    def put_in_pouch(self, item):\n",
    "        self.pouch.append(item)\n",
    "\n",
    "    def pouch_contents(self):\n",
    "        return self.pouch\n",
    "\n",
    "class Kangaroo(Marsupial):\n",
    "    def __init__(self, x, y):\n",
    "        super().__init__()  # Call the constructor of the superclass\n",
    "        self.x = x\n",
    "        self.y = y\n",
    "\n",
    "    def jump(self, dx, dy):\n",
    "        self.x += dx\n",
    "        self.y += dy\n",
    "\n",
    "    def __str__(self):\n",
    "        return f\"I am a Kangaroo located at coordinates ({self.x},{self.y})\"\n",
    "\n",
    "# Example usage\n",
    "m = Marsupial()\n",
    "m.put_in_pouch('doll')\n",
    "m.put_in_pouch('firetruck')\n",
    "m.put_in_pouch('kitten')\n",
    "print(m.pouch_contents())\n",
    "\n",
    "k = Kangaroo(0, 0)\n",
    "print(k)\n",
    "k.put_in_pouch('doll')\n",
    "k.put_in_pouch('firetruck')\n",
    "k.put_in_pouch('kitten')\n",
    "print(k.pouch_contents())\n",
    "k.jump(1, 0)\n",
    "k.jump(1, 0)\n",
    "k.jump(1, 0)\n",
    "print(k)\n",
    "\n"
   ]
  },
  {
   "cell_type": "code",
   "execution_count": 16,
   "id": "172c763a",
   "metadata": {},
   "outputs": [
    {
     "name": "stdout",
     "output_type": "stream",
     "text": [
      "Ans 4\n",
      "1\n",
      "\n",
      "10\n",
      "5\n",
      "16\n",
      "8\n",
      "4\n",
      "2\n",
      "1\n"
     ]
    }
   ],
   "source": [
    "print('Ans 4')\n",
    "def collatz(x):\n",
    "    print(x)\n",
    "    if x == 1:\n",
    "        return\n",
    "    elif x % 2 == 0:\n",
    "        collatz(x // 2)\n",
    "    else:\n",
    "        collatz(3 * x + 1)\n",
    "\n",
    "# Test the function\n",
    "collatz(1)\n",
    "print()\n",
    "collatz(10)\n"
   ]
  },
  {
   "cell_type": "code",
   "execution_count": 18,
   "id": "5e4c86aa",
   "metadata": {},
   "outputs": [
    {
     "name": "stdout",
     "output_type": "stream",
     "text": [
      "Ans 5\n",
      "0\n",
      "1\n",
      "11\n",
      "1001"
     ]
    }
   ],
   "source": [
    "print('Ans 5')\n",
    "def binary(n):\n",
    "    if n == 0:\n",
    "        print(\"0\", end=\"\")\n",
    "    elif n == 1:\n",
    "        print(\"1\", end=\"\")\n",
    "    else:\n",
    "        binary(n // 2)\n",
    "        print(n % 2, end=\"\")\n",
    "\n",
    "# Test the function\n",
    "binary(0)\n",
    "print()\n",
    "binary(1)\n",
    "print()\n",
    "binary(3)\n",
    "print()\n",
    "binary(9)\n"
   ]
  },
  {
   "cell_type": "code",
   "execution_count": 2,
   "id": "110bacd4",
   "metadata": {},
   "outputs": [
    {
     "name": "stdout",
     "output_type": "stream",
     "text": [
      "Ans 6\n",
      "W3C Mission\n",
      " Principles\n"
     ]
    }
   ],
   "source": [
    "print('Ans 6')\n",
    "from html.parser import HTMLParser\n",
    "\n",
    "class HeadingParser(HTMLParser):\n",
    "    def __init__(self):\n",
    "        super().__init__()\n",
    "        self.in_heading = False\n",
    "        self.heading_level = 0\n",
    "        self.headings = []\n",
    "\n",
    "    def handle_starttag(self, tag, attrs):\n",
    "        if tag.startswith('h') and tag[1:].isdigit():\n",
    "            self.in_heading = True\n",
    "            self.heading_level = int(tag[1:])\n",
    "\n",
    "    def handle_endtag(self, tag):\n",
    "        if self.in_heading:\n",
    "            self.in_heading = False\n",
    "\n",
    "    def handle_data(self, data):\n",
    "        if self.in_heading:\n",
    "            self.headings.append((self.heading_level, data))\n",
    "\n",
    "    def print_headings(self):\n",
    "        for level, text in self.headings:\n",
    "            indentation = ' ' * (level - 1)\n",
    "            print(indentation + text)\n",
    "\n",
    "# Example usage\n",
    "infile = open('w3c.html', 'r', encoding='utf-8')\n",
    "content = infile.read()\n",
    "infile.close()\n",
    "\n",
    "hp = HeadingParser()\n",
    "hp.feed(content)\n",
    "hp.print_headings()\n"
   ]
  },
  {
   "cell_type": "code",
   "execution_count": 25,
   "id": "e5998934",
   "metadata": {},
   "outputs": [
    {
     "name": "stdout",
     "output_type": "stream",
     "text": [
      "Ans 7\n",
      "Error fetching URL: http://reed.cs.depaul.edu/lperkovic/csc242/test1.html\n"
     ]
    }
   ],
   "source": [
    "print('Ans 7')\n",
    "\n",
    "import requests\n",
    "from bs4 import BeautifulSoup\n",
    "\n",
    "def webdir(url, depth, indent):\n",
    "    if depth < 0:\n",
    "        return\n",
    "\n",
    "    try:\n",
    "        response = requests.get(url)\n",
    "        response.raise_for_status()\n",
    "    except requests.exceptions.RequestException as e:\n",
    "        print(f\"Error fetching URL: {url}\")\n",
    "        return\n",
    "\n",
    "    soup = BeautifulSoup(response.text, 'html.parser')\n",
    "    print(\" \" * indent + url)\n",
    "\n",
    "    if depth > 0:\n",
    "        links = soup.find_all('a')\n",
    "        for link in links:\n",
    "            href = link.get('href')\n",
    "            if href and href.startswith('http'):\n",
    "                webdir(href, depth - 1, indent + 2)\n",
    "\n",
    "# Example usage\n",
    "webdir('http://reed.cs.depaul.edu/lperkovic/csc242/test1.html', 2, 0)\n"
   ]
  },
  {
   "cell_type": "code",
   "execution_count": 26,
   "id": "a1dff9b4",
   "metadata": {},
   "outputs": [
    {
     "ename": "SyntaxError",
     "evalue": "invalid syntax (4156920643.py, line 2)",
     "output_type": "error",
     "traceback": [
      "\u001b[1;36m  Cell \u001b[1;32mIn[26], line 2\u001b[1;36m\u001b[0m\n\u001b[1;33m    SELECT Temperature FROM TableName;\u001b[0m\n\u001b[1;37m           ^\u001b[0m\n\u001b[1;31mSyntaxError\u001b[0m\u001b[1;31m:\u001b[0m invalid syntax\n"
     ]
    }
   ],
   "source": [
    "print('Ans 8')\n",
    "SELECT Temperature FROM TableName;\n"
   ]
  },
  {
   "cell_type": "code",
   "execution_count": 30,
   "id": "48e6d85c",
   "metadata": {},
   "outputs": [],
   "source": [
    "\n",
    " word = ['The', 'quick', 'brown', 'fox', 'jumps', 'over', 'the', 'lazy', 'dog']\n",
    "uppercase_words = [word.upper() for word in words]\n",
    "lowercase_words = [word.lower() for word in words]\n",
    "word_lengths = [len(word) for word in words]\n",
    "word_info = [[word.upper(), word.lower(), len(word)] for word in words]\n",
    "words_4_or_more = [word for word in words if len(word) >= 4]\n"
   ]
  },
  {
   "cell_type": "code",
   "execution_count": 26,
   "id": "77570db7",
   "metadata": {},
   "outputs": [
    {
     "name": "stdout",
     "output_type": "stream",
     "text": [
      "['THE', 'QUICK', 'BROWN', 'FOX', 'JUMPS', 'OVER', 'THE', 'LAZY', 'DOG']\n",
      "['the', 'quick', 'brown', 'fox', 'jumps', 'over', 'the', 'lazy', 'dog']\n",
      "[3, 5, 5, 3, 5, 4, 3, 4, 3]\n",
      "[['THE', 'the', 3], ['QUICK', 'quick', 5], ['BROWN', 'brown', 5], ['FOX', 'fox', 3], ['JUMPS', 'jumps', 5], ['OVER', 'over', 4], ['THE', 'the', 3], ['LAZY', 'lazy', 4], ['DOG', 'dog', 3]]\n",
      "['quick', 'brown', 'jumps', 'over', 'lazy']\n"
     ]
    }
   ],
   "source": [
    "print(uppercase_words)\n",
    "print(lowercase_words)\n",
    "print(word_lengths)\n",
    "print(word_info)\n",
    "print(words_4_or_more)"
   ]
  },
  {
   "cell_type": "code",
   "execution_count": null,
   "id": "3d9d71ee",
   "metadata": {},
   "outputs": [],
   "source": []
  }
 ],
 "metadata": {
  "kernelspec": {
   "display_name": "Python 3 (ipykernel)",
   "language": "python",
   "name": "python3"
  },
  "language_info": {
   "codemirror_mode": {
    "name": "ipython",
    "version": 3
   },
   "file_extension": ".py",
   "mimetype": "text/x-python",
   "name": "python",
   "nbconvert_exporter": "python",
   "pygments_lexer": "ipython3",
   "version": "3.11.4"
  }
 },
 "nbformat": 4,
 "nbformat_minor": 5
}
